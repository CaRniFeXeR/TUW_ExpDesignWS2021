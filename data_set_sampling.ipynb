{
 "cells": [
  {
   "cell_type": "markdown",
   "metadata": {
    "collapsed": true,
    "pycharm": {
     "name": "#%% md\n"
    }
   },
   "source": [
    "# Sampling user groups from the LFM1b dataset"
   ]
  },
  {
   "cell_type": "markdown",
   "source": [
    "**BEFORE YOU RUN THE NOTEBOOK**:\n",
    "\n",
    "Make sure you place the unzipped [LFM1b dataset](https://drive.jku.at/ssf/s/readFile/share/1056/266403063659030189/publicLink/LFM-1b.zip) (published in [this paper](http://www.cp.jku.at/people/schedl/Research/Publications/pdf/schedl_ism_mam_2017.pdf)) in the `./data` folder"
   ],
   "metadata": {
    "collapsed": false
   }
  },
  {
   "cell_type": "markdown",
   "source": [
    "This notebook does:\n",
    "- replicate the sampling performed in [this paper about unfairness in music recommendations](https://link.springer.com/chapter/10.1007%2F978-3-030-45442-5_5) --> \"extreme\" strategy\n",
    "- replicate the sample strategy used in [this paper about unfairness in music recommendations](https://arxiv.org/abs/1907.13286) --> \"percentile\" strategy\n",
    "- compare these two ways of creating user samples"
   ],
   "metadata": {
    "collapsed": false,
    "pycharm": {
     "name": "#%% md\n"
    }
   }
  },
  {
   "cell_type": "code",
   "execution_count": 57,
   "outputs": [],
   "source": [
    "import pandas as pd\n",
    "import numpy as np\n",
    "import os"
   ],
   "metadata": {
    "collapsed": false,
    "pycharm": {
     "name": "#%%\n"
    }
   }
  },
  {
   "cell_type": "markdown",
   "source": [],
   "metadata": {
    "collapsed": false
   }
  },
  {
   "cell_type": "code",
   "execution_count": 58,
   "outputs": [],
   "source": [
    "out_folder = \"./data/user_groups\"\n",
    "\n",
    "if not os.path.exists(out_folder):\n",
    "    os.mkdir(out_folder)"
   ],
   "metadata": {
    "collapsed": false,
    "pycharm": {
     "name": "#%%\n"
    }
   }
  },
  {
   "cell_type": "markdown",
   "source": [
    "## Load LFM1b data"
   ],
   "metadata": {
    "collapsed": false
   }
  },
  {
   "cell_type": "code",
   "execution_count": 59,
   "outputs": [],
   "source": [
    "users_additional = pd.read_csv(\"data/LFM-1b/LFM-1b_users_additional.txt\", sep=\"\\t\")"
   ],
   "metadata": {
    "collapsed": false,
    "pycharm": {
     "name": "#%%\n"
    }
   }
  },
  {
   "cell_type": "code",
   "execution_count": 60,
   "outputs": [],
   "source": [
    "users_additional\n",
    "sorted_user_add = users_additional.sort_values(by=\"mainstreaminess_global\")"
   ],
   "metadata": {
    "collapsed": false,
    "pycharm": {
     "name": "#%%\n"
    }
   }
  },
  {
   "cell_type": "markdown",
   "source": [
    "## Sample according to \"extreme\" strategy"
   ],
   "metadata": {
    "collapsed": false
   }
  },
  {
   "cell_type": "code",
   "execution_count": 61,
   "outputs": [
    {
     "data": {
      "text/plain": "69165     False\n25230     False\n105083    False\n116054    False\n110784    False\n          ...  \n18190     False\n35278     False\n13605     False\n32889     False\n31726     False\nName: mainstreaminess_global, Length: 120322, dtype: bool"
     },
     "execution_count": 61,
     "metadata": {},
     "output_type": "execute_result"
    }
   ],
   "source": [
    "sorted_user_add[\"mainstreaminess_global\"] == sorted_user_add[\"mainstreaminess_global\"].median()"
   ],
   "metadata": {
    "collapsed": false,
    "pycharm": {
     "name": "#%%\n"
    }
   }
  },
  {
   "cell_type": "code",
   "execution_count": 62,
   "outputs": [],
   "source": [
    "low_main_users =  sorted_user_add.iloc[0:1000,]\n",
    "\n",
    "n = sorted_user_add.shape[0]\n",
    "lower = int((n/2) - 500)\n",
    "higher = int((n/2) + 500)\n",
    "\n",
    "medium_main_users = sorted_user_add.iloc[lower:higher,]\n",
    "high_main_users =  sorted_user_add.iloc[-1000:,]\n"
   ],
   "metadata": {
    "collapsed": false,
    "pycharm": {
     "name": "#%%\n"
    }
   }
  },
  {
   "cell_type": "code",
   "execution_count": 63,
   "outputs": [],
   "source": [
    "low_main_users[[\"user-id\", \"mainstreaminess_global\"]].to_csv(f\"{out_folder}/extreme_low_main_users.csv\")\n",
    "medium_main_users[[\"user-id\", \"mainstreaminess_global\"]].to_csv(f\"{out_folder}/extreme_medium_main_users.csv\")\n",
    "high_main_users[[\"user-id\", \"mainstreaminess_global\"]].to_csv(f\"{out_folder}/extreme_high_main_users.csv\")"
   ],
   "metadata": {
    "collapsed": false,
    "pycharm": {
     "name": "#%%\n"
    }
   }
  },
  {
   "cell_type": "markdown",
   "source": [
    "## Sample according to \"percentile\" strategy"
   ],
   "metadata": {
    "collapsed": false
   }
  },
  {
   "cell_type": "code",
   "execution_count": 64,
   "outputs": [],
   "source": [
    "twenty_percentile = users_additional[\"mainstreaminess_global\"].quantile(0.2)\n",
    "eighty_percentile = users_additional[\"mainstreaminess_global\"].quantile(0.8)\n",
    "\n",
    "low_percentile_main_users = users_additional[users_additional[\"mainstreaminess_global\"] <= twenty_percentile]\n",
    "medium_percentile_main_users = users_additional[np.logical_and(users_additional[\"mainstreaminess_global\"] > twenty_percentile, users_additional[\"mainstreaminess_global\"] < eighty_percentile)]\n",
    "high_percentile_main_users = users_additional[users_additional[\"mainstreaminess_global\"] >= eighty_percentile]"
   ],
   "metadata": {
    "collapsed": false,
    "pycharm": {
     "name": "#%%\n"
    }
   }
  },
  {
   "cell_type": "code",
   "execution_count": 65,
   "outputs": [],
   "source": [
    "low_percentile_main_users[[\"user-id\", \"mainstreaminess_global\"]].to_csv(f\"{out_folder}/percentile_low_main_users.csv\")\n",
    "medium_percentile_main_users[[\"user-id\", \"mainstreaminess_global\"]].to_csv(f\"{out_folder}/percentile_medium_main_users.csv\")\n",
    "high_percentile_main_users[[\"user-id\", \"mainstreaminess_global\"]].to_csv(f\"{out_folder}/percentile_high_main_users.csv\")"
   ],
   "metadata": {
    "collapsed": false,
    "pycharm": {
     "name": "#%%\n"
    }
   }
  },
  {
   "cell_type": "markdown",
   "source": [
    "## Recreate analysis"
   ],
   "metadata": {
    "collapsed": false
   }
  },
  {
   "cell_type": "markdown",
   "source": [],
   "metadata": {
    "collapsed": false
   }
  }
 ],
 "metadata": {
  "kernelspec": {
   "display_name": "Python 3",
   "language": "python",
   "name": "python3"
  },
  "language_info": {
   "codemirror_mode": {
    "name": "ipython",
    "version": 2
   },
   "file_extension": ".py",
   "mimetype": "text/x-python",
   "name": "python",
   "nbconvert_exporter": "python",
   "pygments_lexer": "ipython2",
   "version": "2.7.6"
  }
 },
 "nbformat": 4,
 "nbformat_minor": 0
}